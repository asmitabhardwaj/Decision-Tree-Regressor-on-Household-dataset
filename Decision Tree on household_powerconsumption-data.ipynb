{
 "cells": [
  {
   "cell_type": "code",
   "execution_count": 70,
   "id": "0866f0e7",
   "metadata": {},
   "outputs": [],
   "source": [
    "import pandas as pd\n",
    "from sklearn.tree import DecisionTreeRegressor\n",
    "from sklearn.metrics import accuracy_score,confusion_matrix\n",
    "from sklearn import metrics\n",
    "from sklearn.model_selection import train_test_split"
   ]
  },
  {
   "cell_type": "code",
   "execution_count": 2,
   "id": "ab4c0cee",
   "metadata": {},
   "outputs": [
    {
     "name": "stderr",
     "output_type": "stream",
     "text": [
      "C:\\Users\\asmit\\anaconda3\\lib\\site-packages\\IPython\\core\\interactiveshell.py:3165: DtypeWarning: Columns (2,3,4,5,6,7) have mixed types.Specify dtype option on import or set low_memory=False.\n",
      "  has_raised = await self.run_ast_nodes(code_ast.body, cell_name,\n"
     ]
    }
   ],
   "source": [
    "df=pd.read_csv(r\"C:\\Users\\asmit\\Downloads\\household_power_consumption\\household_power_consumption.txt\",sep=\";\")"
   ]
  },
  {
   "cell_type": "code",
   "execution_count": 3,
   "id": "34f65ad5",
   "metadata": {},
   "outputs": [
    {
     "data": {
      "text/html": [
       "<div>\n",
       "<style scoped>\n",
       "    .dataframe tbody tr th:only-of-type {\n",
       "        vertical-align: middle;\n",
       "    }\n",
       "\n",
       "    .dataframe tbody tr th {\n",
       "        vertical-align: top;\n",
       "    }\n",
       "\n",
       "    .dataframe thead th {\n",
       "        text-align: right;\n",
       "    }\n",
       "</style>\n",
       "<table border=\"1\" class=\"dataframe\">\n",
       "  <thead>\n",
       "    <tr style=\"text-align: right;\">\n",
       "      <th></th>\n",
       "      <th>Date</th>\n",
       "      <th>Time</th>\n",
       "      <th>Global_active_power</th>\n",
       "      <th>Global_reactive_power</th>\n",
       "      <th>Voltage</th>\n",
       "      <th>Global_intensity</th>\n",
       "      <th>Sub_metering_1</th>\n",
       "      <th>Sub_metering_2</th>\n",
       "      <th>Sub_metering_3</th>\n",
       "    </tr>\n",
       "  </thead>\n",
       "  <tbody>\n",
       "    <tr>\n",
       "      <th>0</th>\n",
       "      <td>16/12/2006</td>\n",
       "      <td>17:24:00</td>\n",
       "      <td>4.216</td>\n",
       "      <td>0.418</td>\n",
       "      <td>234.840</td>\n",
       "      <td>18.400</td>\n",
       "      <td>0.000</td>\n",
       "      <td>1.000</td>\n",
       "      <td>17.0</td>\n",
       "    </tr>\n",
       "    <tr>\n",
       "      <th>1</th>\n",
       "      <td>16/12/2006</td>\n",
       "      <td>17:25:00</td>\n",
       "      <td>5.360</td>\n",
       "      <td>0.436</td>\n",
       "      <td>233.630</td>\n",
       "      <td>23.000</td>\n",
       "      <td>0.000</td>\n",
       "      <td>1.000</td>\n",
       "      <td>16.0</td>\n",
       "    </tr>\n",
       "    <tr>\n",
       "      <th>2</th>\n",
       "      <td>16/12/2006</td>\n",
       "      <td>17:26:00</td>\n",
       "      <td>5.374</td>\n",
       "      <td>0.498</td>\n",
       "      <td>233.290</td>\n",
       "      <td>23.000</td>\n",
       "      <td>0.000</td>\n",
       "      <td>2.000</td>\n",
       "      <td>17.0</td>\n",
       "    </tr>\n",
       "    <tr>\n",
       "      <th>3</th>\n",
       "      <td>16/12/2006</td>\n",
       "      <td>17:27:00</td>\n",
       "      <td>5.388</td>\n",
       "      <td>0.502</td>\n",
       "      <td>233.740</td>\n",
       "      <td>23.000</td>\n",
       "      <td>0.000</td>\n",
       "      <td>1.000</td>\n",
       "      <td>17.0</td>\n",
       "    </tr>\n",
       "    <tr>\n",
       "      <th>4</th>\n",
       "      <td>16/12/2006</td>\n",
       "      <td>17:28:00</td>\n",
       "      <td>3.666</td>\n",
       "      <td>0.528</td>\n",
       "      <td>235.680</td>\n",
       "      <td>15.800</td>\n",
       "      <td>0.000</td>\n",
       "      <td>1.000</td>\n",
       "      <td>17.0</td>\n",
       "    </tr>\n",
       "  </tbody>\n",
       "</table>\n",
       "</div>"
      ],
      "text/plain": [
       "         Date      Time Global_active_power Global_reactive_power  Voltage  \\\n",
       "0  16/12/2006  17:24:00               4.216                 0.418  234.840   \n",
       "1  16/12/2006  17:25:00               5.360                 0.436  233.630   \n",
       "2  16/12/2006  17:26:00               5.374                 0.498  233.290   \n",
       "3  16/12/2006  17:27:00               5.388                 0.502  233.740   \n",
       "4  16/12/2006  17:28:00               3.666                 0.528  235.680   \n",
       "\n",
       "  Global_intensity Sub_metering_1 Sub_metering_2  Sub_metering_3  \n",
       "0           18.400          0.000          1.000            17.0  \n",
       "1           23.000          0.000          1.000            16.0  \n",
       "2           23.000          0.000          2.000            17.0  \n",
       "3           23.000          0.000          1.000            17.0  \n",
       "4           15.800          0.000          1.000            17.0  "
      ]
     },
     "execution_count": 3,
     "metadata": {},
     "output_type": "execute_result"
    }
   ],
   "source": [
    "df.head()"
   ]
  },
  {
   "cell_type": "code",
   "execution_count": 4,
   "id": "a8f06f6a",
   "metadata": {},
   "outputs": [],
   "source": [
    "df1=df.sample(n=1000)"
   ]
  },
  {
   "cell_type": "code",
   "execution_count": 5,
   "id": "15868490",
   "metadata": {},
   "outputs": [
    {
     "data": {
      "text/html": [
       "<div>\n",
       "<style scoped>\n",
       "    .dataframe tbody tr th:only-of-type {\n",
       "        vertical-align: middle;\n",
       "    }\n",
       "\n",
       "    .dataframe tbody tr th {\n",
       "        vertical-align: top;\n",
       "    }\n",
       "\n",
       "    .dataframe thead th {\n",
       "        text-align: right;\n",
       "    }\n",
       "</style>\n",
       "<table border=\"1\" class=\"dataframe\">\n",
       "  <thead>\n",
       "    <tr style=\"text-align: right;\">\n",
       "      <th></th>\n",
       "      <th>Date</th>\n",
       "      <th>Time</th>\n",
       "      <th>Global_active_power</th>\n",
       "      <th>Global_reactive_power</th>\n",
       "      <th>Voltage</th>\n",
       "      <th>Global_intensity</th>\n",
       "      <th>Sub_metering_1</th>\n",
       "      <th>Sub_metering_2</th>\n",
       "      <th>Sub_metering_3</th>\n",
       "    </tr>\n",
       "  </thead>\n",
       "  <tbody>\n",
       "    <tr>\n",
       "      <th>1447789</th>\n",
       "      <td>17/9/2009</td>\n",
       "      <td>03:13:00</td>\n",
       "      <td>0.278</td>\n",
       "      <td>0.092</td>\n",
       "      <td>243.100</td>\n",
       "      <td>1.200</td>\n",
       "      <td>0.000</td>\n",
       "      <td>0.000</td>\n",
       "      <td>0.0</td>\n",
       "    </tr>\n",
       "    <tr>\n",
       "      <th>1993303</th>\n",
       "      <td>30/9/2010</td>\n",
       "      <td>23:07:00</td>\n",
       "      <td>1.178</td>\n",
       "      <td>0.000</td>\n",
       "      <td>244.730</td>\n",
       "      <td>4.800</td>\n",
       "      <td>0.000</td>\n",
       "      <td>0.000</td>\n",
       "      <td>0.0</td>\n",
       "    </tr>\n",
       "    <tr>\n",
       "      <th>16972</th>\n",
       "      <td>28/12/2006</td>\n",
       "      <td>12:16:00</td>\n",
       "      <td>0.308</td>\n",
       "      <td>0.148</td>\n",
       "      <td>242.550</td>\n",
       "      <td>1.400</td>\n",
       "      <td>0.000</td>\n",
       "      <td>0.000</td>\n",
       "      <td>0.0</td>\n",
       "    </tr>\n",
       "    <tr>\n",
       "      <th>824327</th>\n",
       "      <td>11/7/2008</td>\n",
       "      <td>04:11:00</td>\n",
       "      <td>0.176</td>\n",
       "      <td>0.000</td>\n",
       "      <td>239.880</td>\n",
       "      <td>1.000</td>\n",
       "      <td>0.000</td>\n",
       "      <td>0.000</td>\n",
       "      <td>0.0</td>\n",
       "    </tr>\n",
       "    <tr>\n",
       "      <th>1475570</th>\n",
       "      <td>6/10/2009</td>\n",
       "      <td>10:14:00</td>\n",
       "      <td>1.342</td>\n",
       "      <td>0.000</td>\n",
       "      <td>241.400</td>\n",
       "      <td>5.400</td>\n",
       "      <td>0.000</td>\n",
       "      <td>0.000</td>\n",
       "      <td>18.0</td>\n",
       "    </tr>\n",
       "  </tbody>\n",
       "</table>\n",
       "</div>"
      ],
      "text/plain": [
       "               Date      Time Global_active_power Global_reactive_power  \\\n",
       "1447789   17/9/2009  03:13:00               0.278                 0.092   \n",
       "1993303   30/9/2010  23:07:00               1.178                 0.000   \n",
       "16972    28/12/2006  12:16:00               0.308                 0.148   \n",
       "824327    11/7/2008  04:11:00               0.176                 0.000   \n",
       "1475570   6/10/2009  10:14:00               1.342                 0.000   \n",
       "\n",
       "         Voltage Global_intensity Sub_metering_1 Sub_metering_2  \\\n",
       "1447789  243.100            1.200          0.000          0.000   \n",
       "1993303  244.730            4.800          0.000          0.000   \n",
       "16972    242.550            1.400          0.000          0.000   \n",
       "824327   239.880            1.000          0.000          0.000   \n",
       "1475570  241.400            5.400          0.000          0.000   \n",
       "\n",
       "         Sub_metering_3  \n",
       "1447789             0.0  \n",
       "1993303             0.0  \n",
       "16972               0.0  \n",
       "824327              0.0  \n",
       "1475570            18.0  "
      ]
     },
     "execution_count": 5,
     "metadata": {},
     "output_type": "execute_result"
    }
   ],
   "source": [
    "df1.tail()"
   ]
  },
  {
   "cell_type": "code",
   "execution_count": 16,
   "id": "21d58d4a",
   "metadata": {},
   "outputs": [],
   "source": [
    "df1=df1.dropna()"
   ]
  },
  {
   "cell_type": "code",
   "execution_count": 17,
   "id": "9fbcb9b3",
   "metadata": {},
   "outputs": [
    {
     "data": {
      "text/plain": [
       "array([18.,  0., 17., 19.,  1., 16., 12.,  7., 11., 20., 29., 30., 28.,\n",
       "       31.,  3.,  2., 10.,  9.,  6.])"
      ]
     },
     "execution_count": 17,
     "metadata": {},
     "output_type": "execute_result"
    }
   ],
   "source": [
    "df1[\"Sub_metering_3\"].unique()"
   ]
  },
  {
   "cell_type": "code",
   "execution_count": 18,
   "id": "769f623d",
   "metadata": {},
   "outputs": [
    {
     "data": {
      "text/html": [
       "<div>\n",
       "<style scoped>\n",
       "    .dataframe tbody tr th:only-of-type {\n",
       "        vertical-align: middle;\n",
       "    }\n",
       "\n",
       "    .dataframe tbody tr th {\n",
       "        vertical-align: top;\n",
       "    }\n",
       "\n",
       "    .dataframe thead th {\n",
       "        text-align: right;\n",
       "    }\n",
       "</style>\n",
       "<table border=\"1\" class=\"dataframe\">\n",
       "  <thead>\n",
       "    <tr style=\"text-align: right;\">\n",
       "      <th></th>\n",
       "      <th>Sub_metering_3</th>\n",
       "    </tr>\n",
       "  </thead>\n",
       "  <tbody>\n",
       "    <tr>\n",
       "      <th>count</th>\n",
       "      <td>987.000000</td>\n",
       "    </tr>\n",
       "    <tr>\n",
       "      <th>mean</th>\n",
       "      <td>6.920973</td>\n",
       "    </tr>\n",
       "    <tr>\n",
       "      <th>std</th>\n",
       "      <td>8.627626</td>\n",
       "    </tr>\n",
       "    <tr>\n",
       "      <th>min</th>\n",
       "      <td>0.000000</td>\n",
       "    </tr>\n",
       "    <tr>\n",
       "      <th>25%</th>\n",
       "      <td>0.000000</td>\n",
       "    </tr>\n",
       "    <tr>\n",
       "      <th>50%</th>\n",
       "      <td>1.000000</td>\n",
       "    </tr>\n",
       "    <tr>\n",
       "      <th>75%</th>\n",
       "      <td>18.000000</td>\n",
       "    </tr>\n",
       "    <tr>\n",
       "      <th>max</th>\n",
       "      <td>31.000000</td>\n",
       "    </tr>\n",
       "  </tbody>\n",
       "</table>\n",
       "</div>"
      ],
      "text/plain": [
       "       Sub_metering_3\n",
       "count      987.000000\n",
       "mean         6.920973\n",
       "std          8.627626\n",
       "min          0.000000\n",
       "25%          0.000000\n",
       "50%          1.000000\n",
       "75%         18.000000\n",
       "max         31.000000"
      ]
     },
     "execution_count": 18,
     "metadata": {},
     "output_type": "execute_result"
    }
   ],
   "source": [
    "df1.describe()"
   ]
  },
  {
   "cell_type": "code",
   "execution_count": 19,
   "id": "a4713ff2",
   "metadata": {},
   "outputs": [
    {
     "name": "stdout",
     "output_type": "stream",
     "text": [
      "<class 'pandas.core.frame.DataFrame'>\n",
      "Int64Index: 987 entries, 252726 to 1475570\n",
      "Data columns (total 9 columns):\n",
      " #   Column                 Non-Null Count  Dtype  \n",
      "---  ------                 --------------  -----  \n",
      " 0   Date                   987 non-null    object \n",
      " 1   Time                   987 non-null    object \n",
      " 2   Global_active_power    987 non-null    object \n",
      " 3   Global_reactive_power  987 non-null    object \n",
      " 4   Voltage                987 non-null    object \n",
      " 5   Global_intensity       987 non-null    object \n",
      " 6   Sub_metering_1         987 non-null    object \n",
      " 7   Sub_metering_2         987 non-null    object \n",
      " 8   Sub_metering_3         987 non-null    float64\n",
      "dtypes: float64(1), object(8)\n",
      "memory usage: 77.1+ KB\n"
     ]
    }
   ],
   "source": [
    "df1.info()"
   ]
  },
  {
   "cell_type": "code",
   "execution_count": 20,
   "id": "f941a8d3",
   "metadata": {},
   "outputs": [
    {
     "data": {
      "text/plain": [
       "Date                     0\n",
       "Time                     0\n",
       "Global_active_power      0\n",
       "Global_reactive_power    0\n",
       "Voltage                  0\n",
       "Global_intensity         0\n",
       "Sub_metering_1           0\n",
       "Sub_metering_2           0\n",
       "Sub_metering_3           0\n",
       "dtype: int64"
      ]
     },
     "execution_count": 20,
     "metadata": {},
     "output_type": "execute_result"
    }
   ],
   "source": [
    "df1.isnull().sum()"
   ]
  },
  {
   "cell_type": "code",
   "execution_count": 26,
   "id": "f454fe4f",
   "metadata": {},
   "outputs": [
    {
     "data": {
      "text/plain": [
       "Index(['Date', 'Time', 'Global_active_power', 'Global_reactive_power',\n",
       "       'Voltage', 'Global_intensity', 'Sub_metering_1', 'Sub_metering_2',\n",
       "       'Sub_metering_3'],\n",
       "      dtype='object')"
      ]
     },
     "execution_count": 26,
     "metadata": {},
     "output_type": "execute_result"
    }
   ],
   "source": [
    "df1.columns"
   ]
  },
  {
   "cell_type": "code",
   "execution_count": 28,
   "id": "9c362015",
   "metadata": {},
   "outputs": [
    {
     "data": {
      "text/plain": [
       "(987, 9)"
      ]
     },
     "execution_count": 28,
     "metadata": {},
     "output_type": "execute_result"
    }
   ],
   "source": [
    "df1.shape"
   ]
  },
  {
   "cell_type": "code",
   "execution_count": 29,
   "id": "b55061b1",
   "metadata": {},
   "outputs": [],
   "source": [
    "convert_dict={'Global_active_power':\"float64\",'Global_reactive_power':\"float64\",\n",
    "       'Voltage':\"float64\", 'Global_intensity':\"float64\", 'Sub_metering_1':\"float64\", 'Sub_metering_2':\"float64\"}\n",
    "df1=df1.astype(convert_dict)"
   ]
  },
  {
   "cell_type": "code",
   "execution_count": 30,
   "id": "32d10bf9",
   "metadata": {},
   "outputs": [
    {
     "name": "stdout",
     "output_type": "stream",
     "text": [
      "<class 'pandas.core.frame.DataFrame'>\n",
      "Int64Index: 987 entries, 252726 to 1475570\n",
      "Data columns (total 9 columns):\n",
      " #   Column                 Non-Null Count  Dtype  \n",
      "---  ------                 --------------  -----  \n",
      " 0   Date                   987 non-null    object \n",
      " 1   Time                   987 non-null    object \n",
      " 2   Global_active_power    987 non-null    float64\n",
      " 3   Global_reactive_power  987 non-null    float64\n",
      " 4   Voltage                987 non-null    float64\n",
      " 5   Global_intensity       987 non-null    float64\n",
      " 6   Sub_metering_1         987 non-null    float64\n",
      " 7   Sub_metering_2         987 non-null    float64\n",
      " 8   Sub_metering_3         987 non-null    float64\n",
      "dtypes: float64(7), object(2)\n",
      "memory usage: 77.1+ KB\n"
     ]
    }
   ],
   "source": [
    "df1.info()"
   ]
  },
  {
   "cell_type": "code",
   "execution_count": 43,
   "id": "896197a9",
   "metadata": {},
   "outputs": [],
   "source": [
    "X=df1.drop(['Sub_metering_3','Date','Time'],axis=1)"
   ]
  },
  {
   "cell_type": "code",
   "execution_count": 44,
   "id": "c71902c7",
   "metadata": {},
   "outputs": [],
   "source": [
    "y=df1['Sub_metering_3']"
   ]
  },
  {
   "cell_type": "code",
   "execution_count": 45,
   "id": "173ce98f",
   "metadata": {},
   "outputs": [
    {
     "data": {
      "text/plain": [
       "((987, 6), (987,))"
      ]
     },
     "execution_count": 45,
     "metadata": {},
     "output_type": "execute_result"
    }
   ],
   "source": [
    "X.shape,y.shape"
   ]
  },
  {
   "cell_type": "code",
   "execution_count": 46,
   "id": "1215d238",
   "metadata": {},
   "outputs": [],
   "source": [
    "X_train,X_test,y_train,y_test=train_test_split(X,y,test_size=0.33,random_state=10)"
   ]
  },
  {
   "cell_type": "code",
   "execution_count": 47,
   "id": "a204d88d",
   "metadata": {},
   "outputs": [
    {
     "data": {
      "text/plain": [
       "((661, 6), (661,))"
      ]
     },
     "execution_count": 47,
     "metadata": {},
     "output_type": "execute_result"
    }
   ],
   "source": [
    "X_train.shape,y_train.shape"
   ]
  },
  {
   "cell_type": "code",
   "execution_count": 48,
   "id": "469e4e0f",
   "metadata": {},
   "outputs": [
    {
     "data": {
      "text/plain": [
       "((326, 6), (326,))"
      ]
     },
     "execution_count": 48,
     "metadata": {},
     "output_type": "execute_result"
    }
   ],
   "source": [
    "X_test.shape,y_test.shape"
   ]
  },
  {
   "cell_type": "markdown",
   "id": "d38a62ef",
   "metadata": {},
   "source": [
    "##Creating decision treee\n",
    "\n"
   ]
  },
  {
   "cell_type": "code",
   "execution_count": 95,
   "id": "e9e55981",
   "metadata": {},
   "outputs": [],
   "source": [
    "Dregressor = DecisionTreeRegressor(random_state=50)"
   ]
  },
  {
   "cell_type": "code",
   "execution_count": 97,
   "id": "4319f7c3",
   "metadata": {},
   "outputs": [
    {
     "data": {
      "text/plain": [
       "DecisionTreeRegressor(random_state=50)"
      ]
     },
     "execution_count": 97,
     "metadata": {},
     "output_type": "execute_result"
    }
   ],
   "source": [
    "Dregressor.fit(X_train,y_train)"
   ]
  },
  {
   "cell_type": "code",
   "execution_count": 98,
   "id": "5e096ae9",
   "metadata": {},
   "outputs": [],
   "source": [
    "y_predict=regressor.predict(X_test)"
   ]
  },
  {
   "cell_type": "code",
   "execution_count": 99,
   "id": "a41edf39",
   "metadata": {},
   "outputs": [
    {
     "data": {
      "text/plain": [
       "array([ 1., 18., 18.,  1., 19.,  0., 18.,  0., 17., 18., 16., 11.,  1.,\n",
       "        0.,  1.,  0., 18.,  0.,  0.,  1.,  1., 18.,  1.,  0.,  0., 18.,\n",
       "        0.,  0.,  0.,  0., 18.,  0., 18.,  1.,  0.,  1.,  1., 17.,  0.,\n",
       "        1.,  0.,  0.,  1.,  1.,  0.,  1., 18., 18., 18., 18., 19.,  1.,\n",
       "        0.,  1., 18.,  0., 17.,  0.,  0.,  1.,  1.,  0., 18., 19.,  0.,\n",
       "        1.,  0.,  1.,  0., 17.,  1.,  0., 18.,  0.,  1., 29.,  0., 18.,\n",
       "        1., 18.,  0.,  0., 19.,  1., 17., 17.,  1.,  1., 18., 17.,  1.,\n",
       "        0.,  0., 17.,  0.,  0.,  0.,  0.,  0., 18.,  0.,  0.,  0.,  0.,\n",
       "       18., 17., 17., 17., 12.,  1., 17.,  0.,  1.,  0.,  1.,  1.,  1.,\n",
       "        0.,  0.,  0.,  1., 17., 18.,  0.,  0.,  1., 17., 10.,  1.,  1.,\n",
       "        0.,  1.,  1.,  1.,  0.,  1., 18., 17., 17.,  0.,  0., 17.,  0.,\n",
       "        0.,  0., 18., 17.,  0.,  0.,  0.,  1.,  0.,  0.,  0.,  0.,  0.,\n",
       "       18.,  0.,  0.,  1.,  0.,  0.,  1.,  0.,  0.,  0.,  0., 19.,  0.,\n",
       "        0., 19., 17.,  1.,  0., 18., 11., 19., 18., 18.,  0., 29., 17.,\n",
       "        0., 18.,  1., 17., 18.,  0., 11., 17., 19.,  1.,  1.,  0.,  0.,\n",
       "        0., 17.,  0.,  0.,  1.,  0.,  1.,  0.,  1., 18., 18., 18., 18.,\n",
       "       17.,  0.,  0.,  1., 18.,  0., 18., 18., 18.,  0.,  0.,  0., 18.,\n",
       "       19., 18.,  0., 19.,  0., 18.,  1.,  1., 18., 18., 18.,  1.,  0.,\n",
       "        0., 19.,  1.,  1.,  0.,  0.,  0.,  0.,  9.,  0., 17.,  1.,  0.,\n",
       "        0.,  1., 20.,  0., 18.,  0.,  0.,  0.,  0., 11.,  0., 17.,  0.,\n",
       "        1.,  0., 18.,  0.,  0.,  0.,  0.,  0., 17., 17.,  1.,  0.,  0.,\n",
       "       18.,  1.,  0., 18.,  0.,  0.,  0.,  0.,  1.,  0., 19.,  0.,  1.,\n",
       "        0.,  0., 17.,  0., 18.,  1., 17.,  1.,  0., 10.,  0.,  0.,  0.,\n",
       "       18.,  1.,  1.,  0.,  1.,  0., 19.,  1.,  1., 18.,  0.,  0.,  1.,\n",
       "       18.,  1.,  1., 19.,  0., 18.,  1.,  0.,  0., 18.,  1.,  0., 18.,\n",
       "       19.])"
      ]
     },
     "execution_count": 99,
     "metadata": {},
     "output_type": "execute_result"
    }
   ],
   "source": [
    "y_predict"
   ]
  },
  {
   "cell_type": "code",
   "execution_count": 100,
   "id": "8ca46be7",
   "metadata": {},
   "outputs": [
    {
     "data": {
      "text/plain": [
       "40.79754601226993"
      ]
     },
     "execution_count": 100,
     "metadata": {},
     "output_type": "execute_result"
    }
   ],
   "source": [
    "accuracy=accuracy_score(y_test,y_predict)*100\n",
    "accuracy"
   ]
  },
  {
   "cell_type": "code",
   "execution_count": 101,
   "id": "8c2b7859",
   "metadata": {},
   "outputs": [
    {
     "name": "stdout",
     "output_type": "stream",
     "text": [
      "[[75 51  0  0  0  0  1  0  0  2  5  1  0  0  0  0]\n",
      " [47 19  0  0  1  0  2  0  0  2  3  1  0  1  0  0]\n",
      " [ 1  0  0  0  0  0  0  0  0  0  0  0  0  0  0  0]\n",
      " [ 1  0  0  0  0  0  0  0  0  0  0  0  0  0  0  0]\n",
      " [ 0  0  0  0  0  0  0  0  0  0  0  0  0  0  0  0]\n",
      " [ 0  0  0  0  0  0  0  0  0  0  0  0  0  0  0  0]\n",
      " [ 1  0  0  0  0  0  1  1  0  0  0  0  0  0  0  0]\n",
      " [ 0  0  0  0  0  0  0  0  0  0  0  0  0  0  0  0]\n",
      " [ 1  0  0  0  0  0  0  0  0  2  0  0  0  0  0  0]\n",
      " [ 5  1  0  0  0  0  0  0  1  9 15  0  0  0  0  0]\n",
      " [ 5  3  0  0  0  2  0  0  0 13 23  6  0  1  0  0]\n",
      " [ 3  1  0  0  0  0  0  0  0  1  7  6  1  0  0  0]\n",
      " [ 0  0  0  0  0  0  0  0  0  0  0  1  0  0  0  0]\n",
      " [ 0  0  0  0  0  0  0  0  0  0  1  0  0  0  0  0]\n",
      " [ 0  0  0  0  0  0  0  0  0  1  0  0  0  0  0  0]\n",
      " [ 0  0  0  0  0  0  0  0  0  0  1  0  0  0  0  0]]\n"
     ]
    }
   ],
   "source": [
    "cm = confusion_matrix(y_test,y_predict)\n",
    "print(cm)"
   ]
  },
  {
   "cell_type": "code",
   "execution_count": 102,
   "id": "f825aa3c",
   "metadata": {},
   "outputs": [],
   "source": [
    "true_positive=cm[0][0]\n",
    "false_positive=cm[0][1]\n",
    "false_negative=cm[1][0]\n",
    "true_negative=cm[1][1]"
   ]
  },
  {
   "cell_type": "code",
   "execution_count": 103,
   "id": "18b278f8",
   "metadata": {},
   "outputs": [
    {
     "data": {
      "text/plain": [
       "0.5952380952380952"
      ]
     },
     "execution_count": 103,
     "metadata": {},
     "output_type": "execute_result"
    }
   ],
   "source": [
    "Precision=true_positive/(true_positive+false_positive)\n",
    "Precision"
   ]
  },
  {
   "cell_type": "code",
   "execution_count": 104,
   "id": "fb6bdf18",
   "metadata": {},
   "outputs": [
    {
     "data": {
      "text/plain": [
       "0.6147540983606558"
      ]
     },
     "execution_count": 104,
     "metadata": {},
     "output_type": "execute_result"
    }
   ],
   "source": [
    "Recall=true_positive/(true_positive+false_negative)\n",
    "Recall"
   ]
  },
  {
   "cell_type": "code",
   "execution_count": 105,
   "id": "4ee4b1b5",
   "metadata": {},
   "outputs": [
    {
     "data": {
      "text/plain": [
       "0.6048387096774194"
      ]
     },
     "execution_count": 105,
     "metadata": {},
     "output_type": "execute_result"
    }
   ],
   "source": [
    "F1_score=2*(Recall*Precision)/(Recall+Precision)\n",
    "F1_score"
   ]
  },
  {
   "cell_type": "code",
   "execution_count": null,
   "id": "a1bdd19b",
   "metadata": {},
   "outputs": [],
   "source": []
  },
  {
   "cell_type": "code",
   "execution_count": null,
   "id": "5d790a1b",
   "metadata": {},
   "outputs": [],
   "source": []
  },
  {
   "cell_type": "code",
   "execution_count": null,
   "id": "453d68fb",
   "metadata": {},
   "outputs": [],
   "source": []
  },
  {
   "cell_type": "code",
   "execution_count": 106,
   "id": "ca9cffa0",
   "metadata": {},
   "outputs": [],
   "source": [
    "from sklearn.model_selection import GridSearchCV"
   ]
  },
  {
   "cell_type": "code",
   "execution_count": null,
   "id": "3e471123",
   "metadata": {},
   "outputs": [],
   "source": []
  }
 ],
 "metadata": {
  "kernelspec": {
   "display_name": "Python 3",
   "language": "python",
   "name": "python3"
  },
  "language_info": {
   "codemirror_mode": {
    "name": "ipython",
    "version": 3
   },
   "file_extension": ".py",
   "mimetype": "text/x-python",
   "name": "python",
   "nbconvert_exporter": "python",
   "pygments_lexer": "ipython3",
   "version": "3.8.8"
  }
 },
 "nbformat": 4,
 "nbformat_minor": 5
}
